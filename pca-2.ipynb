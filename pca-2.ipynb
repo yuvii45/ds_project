{
 "cells": [
  {
   "cell_type": "code",
   "execution_count": 1,
   "id": "b4a6cdc2-f910-4a9c-be45-4644c08d94c2",
   "metadata": {},
   "outputs": [],
   "source": [
    "import pandas as pd\n",
    "import os\n",
    "import numpy as np\n",
    "import matplotlib.pyplot as plt\n",
    "import seaborn as sns\n",
    "from sklearn.decomposition import PCA\n",
    "\n",
    "training_data = pd.read_csv(\")\n",
    "test_data = pd.read_csv(r\"C:\\Users\\yuvi\\Downloads\\validation_data.csv\")"
   ]
  },
  {
   "cell_type": "code",
   "execution_count": 2,
   "id": "8474e9c6-799a-482e-aed2-4f66629a64f7",
   "metadata": {},
   "outputs": [],
   "source": [
    "training_data = training_data.drop(['Unnamed: 0', 'song_id', 'avg', 'first_der', 'Spectral_Bandwidth'], axis=1)\n",
    "test_data = test_data.drop(['Unnamed: 0', 'song_id', 'avg', 'first_der', 'Spectral_Bandwidth'], axis=1)\n",
    "\n",
    "# training_data = training_data[['0', '1', '2', '3', '4', '5', '6', '7', '8', '9', 'label']]\n",
    "# test_data = test_data[['0', '1', '2', '3', '4', '5', '6', '7', '8', '9', 'label']]\n",
    "\n",
    "training_features = training_data.drop(\"label\", axis=1)\n",
    "# training_target = training_data[\"label\"]\n",
    "training_features = training_features.groupby(training_features.index // 5).mean()\n",
    "training_target = training_data[\"label\"].groupby(training_data.index // 5).first()\n",
    "\n",
    "test_features = test_data.drop(\"label\", axis=1)\n",
    "# test_target = test_data[\"label\"]\n",
    "test_features = test_features.groupby(test_features.index // 5).mean()\n",
    "test_target = test_data[\"label\"].groupby(test_data.index // 5).first()\n",
    "\n",
    "\n",
    "# training_data = training_data[['song_id', 'avg', 'first_der', 'Spectral_Bandwidth', 'label']]\n",
    "# test_data = test_data[['song_id', 'avg', 'first_der', 'Spectral_Bandwidth', 'label']]"
   ]
  },
  {
   "cell_type": "code",
   "execution_count": 3,
   "id": "9b2ae9a6-2157-491d-914d-b5322af8202e",
   "metadata": {},
   "outputs": [],
   "source": [
    "training_features.fillna(0, inplace=True)\n",
    "test_features.fillna(0, inplace=True)"
   ]
  },
  {
   "cell_type": "code",
   "execution_count": 4,
   "id": "9457fc0c-ce9b-4846-8267-c1c875851b4b",
   "metadata": {},
   "outputs": [],
   "source": [
    "# pca = PCA()\n",
    "# pca.fit(training_features)\n",
    "\n",
    "# # Calculate the explained variance ratio\n",
    "# explained_variance = pca.explained_variance_ratio_\n",
    "\n",
    "# # Plot the explained variance\n",
    "# plt.figure(figsize=(10, 6))\n",
    "# plt.plot(range(1, len(explained_variance) + 1), explained_variance, marker='o', linestyle='--')\n",
    "# plt.title('Explained Variance by Principal Components')\n",
    "# plt.xlabel('Number of Components')\n",
    "# plt.ylabel('Explained Variance Ratio')\n",
    "# plt.grid()\n",
    "# plt.show()\n",
    "\n",
    "# # Cumulative explained variance\n",
    "# cumulative_variance = explained_variance.cumsum()\n",
    "# plt.figure(figsize=(10, 6))\n",
    "# plt.plot(range(1, len(cumulative_variance) + 1), cumulative_variance, marker='o', linestyle='--')\n",
    "# plt.axhline(y=0.90, color='r', linestyle='--')  # Horizontal line for 90% variance\n",
    "# plt.axhline(y=0.95, color='g', linestyle='--')  # Horizontal line for 95% variance\n",
    "# plt.title('Cumulative Explained Variance')\n",
    "# plt.xlabel('Number of Components')\n",
    "# plt.ylabel('Cumulative Explained Variance')\n",
    "# plt.grid()\n",
    "# plt.show()"
   ]
  },
  {
   "cell_type": "code",
   "execution_count": 5,
   "id": "39245488",
   "metadata": {},
   "outputs": [],
   "source": [
    "from sklearn.preprocessing import StandardScaler\n",
    "from sklearn.decomposition import PCA\n",
    "\n",
    "# Step 1: Standardize the training and test features\n",
    "scaler = StandardScaler()\n",
    "X_train_scaled = scaler.fit_transform(training_features)\n",
    "X_test_scaled = scaler.transform(test_features)  # Assuming you have test features\n",
    "\n",
    "# Step 2: Apply PCA on the scaled data\n",
    "pca = PCA(n_components=5)\n",
    "X_train_pca = pca.fit_transform(X_train_scaled)\n",
    "X_test_pca = pca.transform(X_test_scaled)"
   ]
  },
  {
   "cell_type": "code",
   "execution_count": null,
   "id": "b98e6eab",
   "metadata": {},
   "outputs": [],
   "source": [
    "from sklearn.manifold import TSNE\n",
    "\n",
    "tsne = TSNE(n_components=2, random_state=42)  \n",
    "X_train_tsne = tsne.fit_transform(X_train_pca)\n",
    "X_test_tsne = tsne.fit_transform(X_test_pca)  \n"
   ]
  },
  {
   "cell_type": "code",
   "execution_count": null,
   "id": "8a20c5d1",
   "metadata": {},
   "outputs": [],
   "source": [
    "from sklearn.linear_model import LogisticRegression  \n",
    "from sklearn.svm import SVC\n",
    "from sklearn.neighbors import KNeighborsClassifier\n",
    "\n",
    "model = KNeighborsClassifier(n_neighbors=5)\n",
    "\n",
    "# model = LogisticRegression()\n",
    "# model = SVC()\n",
    "# model.fit(X_train_scaled, training_target)\n",
    "model.fit(X_train_tsne, training_target)\n",
    "predictions = model.predict(X_test_tsne)"
   ]
  },
  {
   "cell_type": "code",
   "execution_count": null,
   "id": "72167098",
   "metadata": {},
   "outputs": [
    {
     "data": {
      "text/plain": [
       "['knn_10features.joblib']"
      ]
     },
     "execution_count": 8,
     "metadata": {},
     "output_type": "execute_result"
    }
   ],
   "source": [
    "import joblib\n",
    "\n",
    "joblib.dump(model, 'tsne_pca8.joblib')"
   ]
  },
  {
   "cell_type": "code",
   "execution_count": null,
   "id": "d97a5ffa",
   "metadata": {},
   "outputs": [],
   "source": [
    "test_target.fillna(0, inplace=True)"
   ]
  },
  {
   "cell_type": "code",
   "execution_count": null,
   "id": "abff7330",
   "metadata": {},
   "outputs": [
    {
     "name": "stdout",
     "output_type": "stream",
     "text": [
      "Accuracy: 0.83\n",
      "Precision: 0.83\n",
      "Recall: 0.83\n",
      "F1 Score: 0.83\n"
     ]
    }
   ],
   "source": [
    "from sklearn.metrics import accuracy_score, precision_score, recall_score, f1_score\n",
    "\n",
    "# Calculate and print performance metrics\n",
    "accuracy = accuracy_score(test_target, predictions)\n",
    "precision = precision_score(test_target, predictions, average='weighted')\n",
    "recall = recall_score(test_target, predictions, average='weighted')\n",
    "f1 = f1_score(test_target, predictions, average='weighted')\n",
    "\n",
    "print(f'Accuracy: {accuracy:.2f}')\n",
    "print(f'Precision: {precision:.2f}')\n",
    "print(f'Recall: {recall:.2f}')\n",
    "print(f'F1 Score: {f1:.2f}')\n"
   ]
  }
 ],
 "metadata": {
  "kernelspec": {
   "display_name": "Python 3",
   "language": "python",
   "name": "python3"
  },
  "language_info": {
   "codemirror_mode": {
    "name": "ipython",
    "version": 3
   },
   "file_extension": ".py",
   "mimetype": "text/x-python",
   "name": "python",
   "nbconvert_exporter": "python",
   "pygments_lexer": "ipython3",
   "version": "3.12.2"
  }
 },
 "nbformat": 4,
 "nbformat_minor": 5
}
